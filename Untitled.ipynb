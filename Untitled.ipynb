{
 "cells": [
  {
   "cell_type": "code",
   "execution_count": 5,
   "metadata": {
    "collapsed": false
   },
   "outputs": [],
   "source": [
    "import numpy as np\n",
    "\n",
    "from deap.tools import sortLogNondominated \n",
    "from pykalman import KalmanFilter"
   ]
  },
  {
   "cell_type": "code",
   "execution_count": 6,
   "metadata": {
    "collapsed": true
   },
   "outputs": [],
   "source": [
    "class StoppingCriterion(object):\n",
    "    '''\n",
    "    classdocs\n",
    "    '''\n",
    "\n",
    "    def __init__(self, progress_indicators, evidence_gatherers, stop_decisors, voting=np.all):\n",
    "        '''\n",
    "        Constructor\n",
    "        '''\n",
    "        self.progress_indicators = progress_indicators\n",
    "        self.evidence_gatherers = evidence_gatherers\n",
    "        self.stop_decisors = stop_decisors\n",
    "        self.voting = voting\n",
    "\n",
    "        self.internal_state = InternalState\n",
    "\n",
    "    def is_end_condition_met(self, population):\n",
    "        '''Decides if the evolution can/must/should be stopped.'''\n",
    "        prog_inds_values = [indicator.compute_indicator(population) for indicator in self.progress_indicators]\n",
    "        evidences = [gatherer.gather_evidence(prog_inds_values) for gatherer in self.evidence_gatherers]\n",
    "        decisions = [decisor.must_stop(evidences) for decisor in self.stop_decisors]\n",
    "\n",
    "        return self.voting(decisions), (prog_ind_values, evidences, decisions)"
   ]
  },
  {
   "cell_type": "code",
   "execution_count": 7,
   "metadata": {
    "collapsed": true
   },
   "outputs": [],
   "source": [
    "class EvidenceGatherer():\n",
    "\n",
    "    def gather_evidence(self, prog_inds_values):\n",
    "        raise NotImplementedError('Method belongs to abstract class')\n",
    "\n",
    "class ProgressIndicator():\n",
    "\n",
    "    def compute_indicator(self, population):\n",
    "        raise NotImplementedError('Method belongs to abstract class')\n",
    "\n",
    "class StopDecisor():\n",
    "\n",
    "    def must_stop(self, evidences):\n",
    "        raise NotImplementedError('Method belongs to abstract class')"
   ]
  },
  {
   "cell_type": "code",
   "execution_count": 8,
   "metadata": {
    "collapsed": true
   },
   "outputs": [],
   "source": [
    "class MutualDominationRateIndicator(ProgressIndicator):\n",
    "\n",
    "    def compute_indicator(self, population):\n",
    "        if not self._previous_pop:\n",
    "          self.previous_pop = population\n",
    "          return np.nan\n",
    "        \n",
    "        res = self._norm_delta(self._previous_pop, population) - self._norm_delta(population, self._previous_pop)\n",
    "        self._previous_pop = population\n",
    "        \n",
    "        return res\n",
    "\n",
    "    def _norm_delta(pop_a, pop_b):\n",
    "        fronts_a = SortLogNonDominated(pop_a)\n",
    "        \n",
    "        count_a = 0\n",
    "        for front_a in fronts_a:\n",
    "            front_with_b = SortLogNonDominated(front_a+pop_b,  first_front_only=True)\n",
    "            dominators = [ind for ind in front_a if ind in front_with_b]\n",
    "            count_a += len(dominators)\n",
    "        \n",
    "        return count_a/len(pop_a)"
   ]
  },
  {
   "cell_type": "code",
   "execution_count": null,
   "metadata": {
    "collapsed": true
   },
   "outputs": [],
   "source": [
    "class MGBMEvidenceGatherer(EvidenceGatherer):\n",
    "    \n",
    "    def __init__(self, r):\n",
    "        self.r = r\n",
    "        \n",
    "    def gather_evidence(self, prog_inds_values):\n",
    "        for ind"
   ]
  },
  {
   "cell_type": "code",
   "execution_count": null,
   "metadata": {
    "collapsed": true
   },
   "outputs": [],
   "source": [
    "\n",
    "for j = 1:length(state.PI)\n",
    "    M = state.(state.PI{j});\n",
    "    if ~isfield(state, 'kalman') || ...\n",
    "            size(state.kalman,1) < length(state.PI) || ...\n",
    "            any(isnan(state.kalman(j,:)))\n",
    "        % first generation: initialize Kalman filter with first value and\n",
    "        % initial guess of the noise\n",
    "        if ~isnan(M(end))\n",
    "            state.kalman(j,:) = [M(end) params.R 1];\n",
    "        else\n",
    "            state.kalman(j,:) = [NaN NaN NaN];\n",
    "        end;\n",
    "    elseif ~isnan(M(end))\n",
    "        % configure the Kalman filter\n",
    "        s.x = state.kalman(j,1);\n",
    "        s.z = M(end);\n",
    "        s.A = 1;\n",
    "        s.B = 0;\n",
    "        s.Q = 0;\n",
    "        s.R = params.R;\n",
    "        s.P = state.kalman(j,2);\n",
    "        \n",
    "        % compute Kalman filter\n",
    "        out = kalmanf(s);\n",
    "        \n",
    "        % update state\n",
    "        state.kalman(j,:) = [out.x out.P state.kalman(j,3)+1];\n",
    "    end;\n",
    "end;"
   ]
  },
  {
   "cell_type": "code",
   "execution_count": null,
   "metadata": {
    "collapsed": true
   },
   "outputs": [],
   "source": []
  }
 ],
 "metadata": {
  "kernelspec": {
   "display_name": "Python 3",
   "language": "python",
   "name": "python3"
  },
  "language_info": {
   "codemirror_mode": {
    "name": "ipython",
    "version": 3
   },
   "file_extension": ".py",
   "mimetype": "text/x-python",
   "name": "python",
   "nbconvert_exporter": "python",
   "pygments_lexer": "ipython3",
   "version": "3.4.3"
  }
 },
 "nbformat": 4,
 "nbformat_minor": 0
}
